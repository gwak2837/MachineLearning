{
  "nbformat": 4,
  "nbformat_minor": 0,
  "metadata": {
    "colab": {
      "name": "Assignment 04.ipynb",
      "provenance": [],
      "collapsed_sections": [],
      "mount_file_id": "16ou0I1Qo1sp7bADwZWahAP5GN_HJMlkK",
      "authorship_tag": "ABX9TyP0TNedKcuTikBzD3jZEpXB",
      "include_colab_link": true
    },
    "kernelspec": {
      "name": "python3",
      "display_name": "Python 3"
    }
  },
  "cells": [
    {
      "cell_type": "markdown",
      "metadata": {
        "id": "view-in-github",
        "colab_type": "text"
      },
      "source": [
        "<a href=\"https://colab.research.google.com/github/rmfpdlxmtidl/MachineLearningAssignments/blob/master/Assignment_04.ipynb\" target=\"_parent\"><img src=\"https://colab.research.google.com/assets/colab-badge.svg\" alt=\"Open In Colab\"/></a>"
      ]
    },
    {
      "cell_type": "code",
      "metadata": {
        "id": "B7qFInLzgTu1",
        "colab_type": "code",
        "outputId": "9bd4bcc0-dbfb-4f84-e3ce-daba7250b821",
        "colab": {
          "base_uri": "https://localhost:8080/",
          "height": 1000
        }
      },
      "source": [
        "import csv\n",
        "import matplotlib.pyplot as plt\n",
        "from math import isclose\n",
        "\n",
        "# Linear Model\n",
        "def f(theta0, theta1, theta2, theta3, x, y, z):\n",
        "  return theta0 + theta1 * x + theta2 * y + theta3 * z\n",
        "\n",
        "# Objective Function\n",
        "def J(theta0, theta1, theta2, theta3, points):\n",
        "  sigma = 0\n",
        "  for point in points:\n",
        "    sigma += (f(theta0, theta1, theta2, theta3, point[0], point[1], point[2]) - point[3]) ** 2\n",
        "  return (1 / (2 * len(points))) * sigma\n",
        "\n",
        "# Derivative of Objective Function by theta0\n",
        "def dJ_dtheta0(theta0, theta1, theta2, theta3, points):\n",
        "  sigma = 0\n",
        "  for point in points:\n",
        "    sigma += (f(theta0, theta1, theta2, theta3, point[0], point[1], point[2]) - point[3])\n",
        "  return (1 / len(points)) * sigma\n",
        "\n",
        "# Derivative of Objective Function by theta1\n",
        "def dJ_dtheta1(theta0, theta1, theta2, theta3, points):\n",
        "  sigma = 0\n",
        "  for point in points:\n",
        "    sigma += (f(theta0, theta1, theta2, theta3, point[0], point[1], point[2]) - point[3]) * point[0]\n",
        "  return (1 / len(points)) * sigma\n",
        "\n",
        "# Derivative of Objective Function by theta2\n",
        "def dJ_dtheta2(theta0, theta1, theta2, theta3, points):\n",
        "  sigma = 0\n",
        "  for point in points:\n",
        "    sigma += (f(theta0, theta1, theta2, theta3, point[0], point[1], point[2]) - point[3]) * point[1]\n",
        "  return (1 / len(points)) * sigma\n",
        "\n",
        "# Derivative of Objective Function by theta3\n",
        "def dJ_dtheta3(theta0, theta1, theta2, theta3, points):\n",
        "  sigma = 0\n",
        "  for point in points:\n",
        "    sigma += (f(theta0, theta1, theta2, theta3, point[0], point[1], point[2]) - point[3]) * point[2]\n",
        "  return (1 / len(points)) * sigma\n",
        "\n",
        "train_set = []\n",
        "test_set = []\n",
        "\n",
        "with open('drive/My Drive/Colab Notebooks/Machine Learning/Assignment 04/data_train.csv', newline='') as myfile:\n",
        "  reader = csv.reader(myfile, delimiter=',')\n",
        "  for i in reader:\n",
        "    train_set.append([float(i[0]), float(i[1]), float(i[2]), float(i[3])])\n",
        "\n",
        "with open('drive/My Drive/Colab Notebooks/Machine Learning/Assignment 04/data_test.csv', newline='') as myfile:\n",
        "  reader = csv.reader(myfile, delimiter=',')\n",
        "  for i in reader:\n",
        "    test_set.append([float(i[0]), float(i[1]), float(i[2]), float(i[3])])\n",
        "\n",
        "# the initial condition\n",
        "theta0 = 1\n",
        "theta1 = 1\n",
        "theta2 = 1\n",
        "theta3 = 1\n",
        "learning_rate = 0.00002\n",
        "theta0_i = []\n",
        "theta1_i = []\n",
        "theta2_i = []\n",
        "theta3_i = []\n",
        "\n",
        "while(1):\n",
        "  # plot the estimated parameters thetas_i at every iteration of gradient descent until convergence\n",
        "  theta0_i.append(theta0)\n",
        "  theta1_i.append(theta1)\n",
        "  theta2_i.append(theta2)\n",
        "  theta3_i.append(theta3)\n",
        "\n",
        "  # the optimization is performed using the training dataset ('data_train.csv')\n",
        "  next_theta0 = theta0 - learning_rate * dJ_dtheta0(theta0, theta1, theta2, theta3, train_set)\n",
        "  next_theta1 = theta1 - learning_rate * dJ_dtheta1(theta0, theta1, theta2, theta3, train_set)\n",
        "  next_theta2 = theta2 - learning_rate * dJ_dtheta2(theta0, theta1, theta2, theta3, train_set)\n",
        "  next_theta3 = theta3 - learning_rate * dJ_dtheta3(theta0, theta1, theta2, theta3, train_set)\n",
        "\n",
        "  # the gradient descent is performed until the convergence is achieved\n",
        "  if(isclose(next_theta0, theta0) and isclose(next_theta1, theta1) and isclose(next_theta2, theta2) and isclose(next_theta3, theta3) ):\n",
        "    break\n",
        "\n",
        "  # update thetas\n",
        "  theta0 = next_theta0\n",
        "  theta1 = next_theta1\n",
        "  theta2 = next_theta2\n",
        "  theta3 = next_theta3\n",
        "  \n",
        "print(len(theta0_i), theta0, theta1, theta2, theta3, J(theta0, theta1, theta2, theta3, train_set))\n",
        "\n",
        "# the colors for the parameters thetas_i should be black, red, green, blue, respectively\n",
        "plt.figure(figsize=(8, 8))\n",
        "plt.plot(range(len(theta0_i)), theta0_i, marker='x', color='black')\n",
        "plt.plot(range(len(theta1_i)), theta1_i, marker='x', color='red')\n",
        "plt.plot(range(len(theta2_i)), theta2_i, marker='x', color='green')\n",
        "plt.plot(range(len(theta3_i)), theta3_i, marker='x', color='blue')\n",
        "plt.show()\n",
        "\n",
        "plt.figure(figsize=(8, 8))\n",
        "plt.plot(range(len(theta0_i)), theta0_i, marker='x', color='black')\n",
        "plt.show()\n",
        "plt.figure(figsize=(8, 8))\n",
        "plt.plot(range(len(theta1_i)), theta1_i, marker='x', color='red')\n",
        "plt.show()\n",
        "plt.figure(figsize=(8, 8))\n",
        "plt.plot(range(len(theta2_i)), theta2_i, marker='x', color='green')\n",
        "plt.show()\n",
        "plt.figure(figsize=(8, 8))\n",
        "plt.plot(range(len(theta3_i)), theta3_i, marker='x', color='blue')\n",
        "plt.show()\n"
      ],
      "execution_count": 1,
      "outputs": [
        {
          "output_type": "stream",
          "text": [
            "1833703 -1.1919650823086658 0.7928546157323704 -1.7943650476953175 4.007968178729908 103.45384947135645\n"
          ],
          "name": "stdout"
        },
        {
          "output_type": "display_data",
          "data": {
            "image/png": "[encoded data removed]",
            "text/plain": [
              "<Figure size 576x576 with 1 Axes>"
            ]
          },
          "metadata": {
            "tags": [],
            "needs_background": "light"
          }
        },
        {
          "output_type": "display_data",
          "data": {
            "image/png": "[encoded data removed]",
            "text/plain": [
              "<Figure size 576x576 with 1 Axes>"
            ]
          },
          "metadata": {
            "tags": [],
            "needs_background": "light"
          }
        },
        {
          "output_type": "display_data",
          "data": {
            "image/png": "[encoded data removed]",
            "text/plain": [
              "<Figure size 576x576 with 1 Axes>"
            ]
          },
          "metadata": {
            "tags": [],
            "needs_background": "light"
          }
        },
        {
          "output_type": "display_data",
          "data": {
            "image/png": "[encoded data removed]",
            "text/plain": [
              "<Figure size 576x576 with 1 Axes>"
            ]
          },
          "metadata": {
            "tags": [],
            "needs_background": "light"
          }
        },
        {
          "output_type": "display_data",
          "data": {
            "image/png": "[encoded data removed]",
            "text/plain": [
              "<Figure size 576x576 with 1 Axes>"
            ]
          },
          "metadata": {
            "tags": [],
            "needs_background": "light"
          }
        }
      ]
    },
    {
      "cell_type": "code",
      "metadata": {
        "id": "1fvtLGTqurPg",
        "colab_type": "code",
        "colab": {
          "base_uri": "https://localhost:8080/",
          "height": 515
        },
        "outputId": "0b111efc-486c-4f8b-8414-e41091300379"
      },
      "source": [
        "import csv\n",
        "import matplotlib.pyplot as plt\n",
        "from math import isclose\n",
        "\n",
        "# Linear Model\n",
        "def f(theta0, theta1, theta2, theta3, x, y, z):\n",
        "  return theta0 + theta1 * x + theta2 * y + theta3 * z\n",
        "\n",
        "# Objective Function\n",
        "def J(theta0, theta1, theta2, theta3, points):\n",
        "  sigma = 0\n",
        "  for point in points:\n",
        "    sigma += (f(theta0, theta1, theta2, theta3, point[0], point[1], point[2]) - point[3]) ** 2\n",
        "  return (1 / (2 * len(points))) * sigma\n",
        "\n",
        "# Derivative of Objective Function by theta0\n",
        "def dJ_dtheta0(theta0, theta1, theta2, theta3, points):\n",
        "  sigma = 0\n",
        "  for point in points:\n",
        "    sigma += (f(theta0, theta1, theta2, theta3, point[0], point[1], point[2]) - point[3])\n",
        "  return (1 / len(points)) * sigma\n",
        "\n",
        "# Derivative of Objective Function by theta1\n",
        "def dJ_dtheta1(theta0, theta1, theta2, theta3, points):\n",
        "  sigma = 0\n",
        "  for point in points:\n",
        "    sigma += (f(theta0, theta1, theta2, theta3, point[0], point[1], point[2]) - point[3]) * point[0]\n",
        "  return (1 / len(points)) * sigma\n",
        "\n",
        "# Derivative of Objective Function by theta2\n",
        "def dJ_dtheta2(theta0, theta1, theta2, theta3, points):\n",
        "  sigma = 0\n",
        "  for point in points:\n",
        "    sigma += (f(theta0, theta1, theta2, theta3, point[0], point[1], point[2]) - point[3]) * point[1]\n",
        "  return (1 / len(points)) * sigma\n",
        "\n",
        "# Derivative of Objective Function by theta3\n",
        "def dJ_dtheta3(theta0, theta1, theta2, theta3, points):\n",
        "  sigma = 0\n",
        "  for point in points:\n",
        "    sigma += (f(theta0, theta1, theta2, theta3, point[0], point[1], point[2]) - point[3]) * point[2]\n",
        "  return (1 / len(points)) * sigma\n",
        "\n",
        "train_set = []\n",
        "\n",
        "with open('drive/My Drive/Colab Notebooks/Machine Learning/Assignment 04/data_train.csv', newline='') as myfile:\n",
        "  reader = csv.reader(myfile, delimiter=',')\n",
        "  for i in reader:\n",
        "    train_set.append([float(i[0]), float(i[1]), float(i[2]), float(i[3])])\n",
        "\n",
        "# the initial condition\n",
        "theta0 = 1\n",
        "theta1 = 1\n",
        "theta2 = 1\n",
        "theta3 = 1\n",
        "learning_rate = 0.00002\n",
        "theta0_i = []\n",
        "theta1_i = []\n",
        "theta2_i = []\n",
        "theta3_i = []\n",
        "J_train_i = []\n",
        "\n",
        "while(1):\n",
        "  # plot the estimated parameters thetas_i at every iteration of gradient descent until convergence\n",
        "  theta0_i.append(theta0)\n",
        "  theta1_i.append(theta1)\n",
        "  theta2_i.append(theta2)\n",
        "  theta3_i.append(theta3)\n",
        "  J_train_i.append(J(theta0, theta1, theta2, theta3, train_set))\n",
        "\n",
        "  # the optimization is performed using the training dataset ('data_train.csv')\n",
        "  next_theta0 = theta0 - learning_rate * dJ_dtheta0(theta0, theta1, theta2, theta3, train_set)\n",
        "  next_theta1 = theta1 - learning_rate * dJ_dtheta1(theta0, theta1, theta2, theta3, train_set)\n",
        "  next_theta2 = theta2 - learning_rate * dJ_dtheta2(theta0, theta1, theta2, theta3, train_set)\n",
        "  next_theta3 = theta3 - learning_rate * dJ_dtheta3(theta0, theta1, theta2, theta3, train_set)\n",
        "\n",
        "  # the gradient descent is performed until the convergence is achieved\n",
        "  if(isclose(next_theta0, theta0) and isclose(next_theta1, theta1) and isclose(next_theta2, theta2) and isclose(next_theta3, theta3) ):\n",
        "    break\n",
        "\n",
        "  # update thetas\n",
        "  theta0 = next_theta0\n",
        "  theta1 = next_theta1\n",
        "  theta2 = next_theta2\n",
        "  theta3 = next_theta3\n",
        "  \n",
        "print(len(theta0_i), theta0, theta1, theta2, theta3, J(theta0, theta1, theta2, theta3, train_set))\n",
        "\n",
        "# plot the training error J(θ0,θ1,θ2,θ3) at every iteration of gradient descent until convergence (in blue color)\n",
        "plt.figure(figsize=(8, 8))\n",
        "plt.plot(range(len(J_train_i)), J_train_i, marker='o', color='blue')\n",
        "plt.show()"
      ],
      "execution_count": 2,
      "outputs": [
        {
          "output_type": "stream",
          "text": [
            "1833703 -1.1919650823086658 0.7928546157323704 -1.7943650476953175 4.007968178729908 103.45384947135645\n"
          ],
          "name": "stdout"
        },
        {
          "output_type": "display_data",
          "data": {
            "image/png": "[encoded data removed]",
            "text/plain": [
              "<Figure size 576x576 with 1 Axes>"
            ]
          },
          "metadata": {
            "tags": [],
            "needs_background": "light"
          }
        }
      ]
    },
    {
      "cell_type": "code",
      "metadata": {
        "id": "0SGJXnuhurjX",
        "colab_type": "code",
        "colab": {
          "base_uri": "https://localhost:8080/",
          "height": 515
        },
        "outputId": "db4d40d0-b643-4407-9c3b-163f3bb626fa"
      },
      "source": [
        "import csv\n",
        "import matplotlib.pyplot as plt\n",
        "from math import isclose\n",
        "\n",
        "# Linear Model\n",
        "def f(theta0, theta1, theta2, theta3, x, y, z):\n",
        "  return theta0 + theta1 * x + theta2 * y + theta3 * z\n",
        "\n",
        "# Objective Function\n",
        "def J(theta0, theta1, theta2, theta3, points):\n",
        "  sigma = 0\n",
        "  for point in points:\n",
        "    sigma += (f(theta0, theta1, theta2, theta3, point[0], point[1], point[2]) - point[3]) ** 2\n",
        "  return (1 / (2 * len(points))) * sigma\n",
        "\n",
        "# Derivative of Objective Function by theta0\n",
        "def dJ_dtheta0(theta0, theta1, theta2, theta3, points):\n",
        "  sigma = 0\n",
        "  for point in points:\n",
        "    sigma += (f(theta0, theta1, theta2, theta3, point[0], point[1], point[2]) - point[3])\n",
        "  return (1 / len(points)) * sigma\n",
        "\n",
        "# Derivative of Objective Function by theta1\n",
        "def dJ_dtheta1(theta0, theta1, theta2, theta3, points):\n",
        "  sigma = 0\n",
        "  for point in points:\n",
        "    sigma += (f(theta0, theta1, theta2, theta3, point[0], point[1], point[2]) - point[3]) * point[0]\n",
        "  return (1 / len(points)) * sigma\n",
        "\n",
        "# Derivative of Objective Function by theta2\n",
        "def dJ_dtheta2(theta0, theta1, theta2, theta3, points):\n",
        "  sigma = 0\n",
        "  for point in points:\n",
        "    sigma += (f(theta0, theta1, theta2, theta3, point[0], point[1], point[2]) - point[3]) * point[1]\n",
        "  return (1 / len(points)) * sigma\n",
        "\n",
        "# Derivative of Objective Function by theta3\n",
        "def dJ_dtheta3(theta0, theta1, theta2, theta3, points):\n",
        "  sigma = 0\n",
        "  for point in points:\n",
        "    sigma += (f(theta0, theta1, theta2, theta3, point[0], point[1], point[2]) - point[3]) * point[2]\n",
        "  return (1 / len(points)) * sigma\n",
        "\n",
        "train_set = []\n",
        "test_set = []\n",
        "\n",
        "with open('drive/My Drive/Colab Notebooks/Machine Learning/Assignment 04/data_train.csv', newline='') as myfile:\n",
        "  reader = csv.reader(myfile, delimiter=',')\n",
        "  for i in reader:\n",
        "    train_set.append([float(i[0]), float(i[1]), float(i[2]), float(i[3])])\n",
        "\n",
        "with open('drive/My Drive/Colab Notebooks/Machine Learning/Assignment 04/data_test.csv', newline='') as myfile:\n",
        "  reader = csv.reader(myfile, delimiter=',')\n",
        "  for i in reader:\n",
        "    test_set.append([float(i[0]), float(i[1]), float(i[2]), float(i[3])])\n",
        "\n",
        "# the initial condition\n",
        "theta0 = 1\n",
        "theta1 = 1\n",
        "theta2 = 1\n",
        "theta3 = 1\n",
        "learning_rate = 0.00002\n",
        "theta0_i = []\n",
        "theta1_i = []\n",
        "theta2_i = []\n",
        "theta3_i = []\n",
        "J_train_i = []\n",
        "J_test_i = []\n",
        "\n",
        "while(1):\n",
        "  # plot the estimated parameters thetas_i at every iteration of gradient descent until convergence\n",
        "  theta0_i.append(theta0)\n",
        "  theta1_i.append(theta1)\n",
        "  theta2_i.append(theta2)\n",
        "  theta3_i.append(theta3)\n",
        "  J_train_i.append(J(theta0, theta1, theta2, theta3, train_set))\n",
        "  J_test_i.append(J(theta0, theta1, theta2, theta3, test_set))\n",
        "\n",
        "  # the optimization is performed using the training dataset ('data_train.csv')\n",
        "  next_theta0 = theta0 - learning_rate * dJ_dtheta0(theta0, theta1, theta2, theta3, train_set)\n",
        "  next_theta1 = theta1 - learning_rate * dJ_dtheta1(theta0, theta1, theta2, theta3, train_set)\n",
        "  next_theta2 = theta2 - learning_rate * dJ_dtheta2(theta0, theta1, theta2, theta3, train_set)\n",
        "  next_theta3 = theta3 - learning_rate * dJ_dtheta3(theta0, theta1, theta2, theta3, train_set)\n",
        "\n",
        "  # the gradient descent is performed until the convergence is achieved\n",
        "  if(isclose(next_theta0, theta0) and isclose(next_theta1, theta1) and isclose(next_theta2, theta2) and isclose(next_theta3, theta3) ):\n",
        "    break\n",
        "\n",
        "  # update thetas\n",
        "  theta0 = next_theta0\n",
        "  theta1 = next_theta1\n",
        "  theta2 = next_theta2\n",
        "  theta3 = next_theta3\n",
        "  \n",
        "print(len(theta0_i), theta0, theta1, theta2, theta3, J(theta0, theta1, theta2, theta3, train_set), J(theta0, theta1, theta2, theta3, test_set))\n",
        "\n",
        "# plot the testing error J(θ0,θ1,θ2,θ3) at every iteration of gradient descent until convergence (in red color)\n",
        "plt.figure(figsize=(8, 8))\n",
        "plt.plot(range(len(J_test_i)), J_test_i, marker='o', color='red')\n",
        "plt.show()"
      ],
      "execution_count": 3,
      "outputs": [
        {
          "output_type": "stream",
          "text": [
            "1833703 -1.1919650823086658 0.7928546157323704 -1.7943650476953175 4.007968178729908 103.45384947135645 0.9913910045574752\n"
          ],
          "name": "stdout"
        },
        {
          "output_type": "display_data",
          "data": {
            "image/png": "[encoded data removed]",
            "text/plain": [
              "<Figure size 576x576 with 1 Axes>"
            ]
          },
          "metadata": {
            "tags": [],
            "needs_background": "light"
          }
        }
      ]
    }
  ]
}