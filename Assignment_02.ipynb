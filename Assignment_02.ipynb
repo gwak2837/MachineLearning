{
  "nbformat": 4,
  "nbformat_minor": 0,
  "metadata": {
    "colab": {
      "name": "Assignment 02.ipynb",
      "provenance": [],
      "authorship_tag": "ABX9TyMKgr70FAb/0TWGRhXtCxHQ",
      "include_colab_link": true
    },
    "kernelspec": {
      "name": "python3",
      "display_name": "Python 3"
    }
  },
  "cells": [
    {
      "cell_type": "markdown",
      "metadata": {
        "id": "view-in-github",
        "colab_type": "text"
      },
      "source": [
        "<a href=\"https://colab.research.google.com/github/rmfpdlxmtidl/MachineLearningAssignments/blob/master/Assignment_02.ipynb\" target=\"_parent\"><img src=\"https://colab.research.google.com/assets/colab-badge.svg\" alt=\"Open In Colab\"/></a>"
      ]
    },
    {
      "cell_type": "code",
      "metadata": {
        "id": "KSZMdlwDQQ0Y",
        "colab_type": "code",
        "colab": {
          "base_uri": "https://localhost:8080/",
          "height": 265
        },
        "outputId": "883a3b87-aeec-4e69-a19b-e747cf128e3c"
      },
      "source": [
        "import numpy as np\n",
        "\n",
        "np.random.seed(10)\n",
        "\n",
        "mu, sigma = 0, 1\n",
        "a = 2\n",
        "b = 4\n",
        "m = 25\n",
        "x = np.random.normal(size=m)\n",
        "n = np.random.normal(mu, sigma, size=m)\n",
        "y = []\n",
        "\n",
        "for i in range(len(x)):\n",
        "  y.append(a*x[i] + b + n[i])\n",
        "\n",
        "import matplotlib.pyplot as plt \n",
        "\n",
        "# figure, 즉 그래프를 표현할 액자를 먼저 만든다. \n",
        "plt.figure()\n",
        "\n",
        "plt.plot(x, a*x+b, color='blue')\n",
        "plt.scatter(x, y, color='black')\n",
        "\n",
        " # figure 를 출력한다. \n",
        "plt.show()\n",
        "\n",
        "\n"
      ],
      "execution_count": 1,
      "outputs": [
        {
          "output_type": "display_data",
          "data": {
            "image/png": "[encoded data removed]",
            "text/plain": [
              "<Figure size 432x288 with 1 Axes>"
            ]
          },
          "metadata": {
            "tags": []
          }
        }
      ]
    }
  ]
}