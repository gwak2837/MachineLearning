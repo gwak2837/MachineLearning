{
  "nbformat": 4,
  "nbformat_minor": 0,
  "metadata": {
    "colab": {
      "name": "Assignment 05.ipynb",
      "provenance": [],
      "collapsed_sections": [],
      "mount_file_id": "1c9O0ATBW3Z1lMUY0T-XpZhPqPww3ymEP",
      "authorship_tag": "ABX9TyNQAT4lFFsMpigs50un7FTc",
      "include_colab_link": true
    },
    "kernelspec": {
      "name": "python3",
      "display_name": "Python 3"
    }
  },
  "cells": [
    {
      "cell_type": "markdown",
      "metadata": {
        "id": "view-in-github",
        "colab_type": "text"
      },
      "source": [
        "<a href=\"https://colab.research.google.com/github/rmfpdlxmtidl/MachineLearningAssignments/blob/master/Assignment_05.ipynb\" target=\"_parent\"><img src=\"https://colab.research.google.com/assets/colab-badge.svg\" alt=\"Open In Colab\"/></a>"
      ]
    },
    {
      "cell_type": "code",
      "metadata": {
        "id": "NcnVjKiyZQJk",
        "colab_type": "code",
        "outputId": "2bad786b-16fb-434a-926d-1bcf4a18bf45",
        "colab": {
          "base_uri": "https://localhost:8080/",
          "height": 483
        }
      },
      "source": [
        "# 1. Plot the training data [2pt]\n",
        "\n",
        "import numpy as np\n",
        "import matplotlib.pyplot as plt\n",
        "\n",
        "# load the training data file ('data.txt')\n",
        "data = np.genfromtxt(\"drive/My Drive/Colab Notebooks/Machine Learning/Assignment 05/data.txt\", delimiter=',')\n",
        "\n",
        "# each row {(x_i, y_i, l_i)} of the data consists of a 2-dimensional point (x,y) with its label l\n",
        "# x,y ∈ R and l ∈ {0,1}\n",
        "x = data[:, 0]\n",
        "y = data[:, 1]\n",
        "label = data[:, 2]\n",
        "\n",
        "x_label0 = x[label == 0]\n",
        "x_label1 = x[label == 1]\n",
        "\n",
        "y_label0 = y[label == 0]\n",
        "y_label1 = y[label == 1]\n",
        "\n",
        "# plot the training data points (x,y) with their labels l in colors\n",
        "plt.figure(figsize=(8, 8))\n",
        "\n",
        "# blue for label 0 and red for label 1\n",
        "plt.scatter(x_label0, y_label0, color='blue')\n",
        "plt.scatter(x_label1, y_label1, color='red')\n",
        "plt.show()\n"
      ],
      "execution_count": 0,
      "outputs": [
        {
          "output_type": "display_data",
          "data": {
            "image/png": "[encoded data removed]",
            "text/plain": [
              "<Figure size 576x576 with 1 Axes>"
            ]
          },
          "metadata": {
            "tags": [],
            "needs_background": "light"
          }
        }
      ]
    },
    {
      "cell_type": "code",
      "metadata": {
        "id": "czN539z5I7bF",
        "colab_type": "code",
        "outputId": "6d07f08f-585d-48e7-9c21-d254ed6de66c",
        "colab": {
          "base_uri": "https://localhost:8080/",
          "height": 521
        }
      },
      "source": [
        "# 2. Plot the estimated parameters [3pt]\n",
        "\n",
        "import numpy as np\n",
        "import matplotlib.pyplot as plt\n",
        "from math import *\n",
        "\n",
        "\n",
        "# Logistic regression\n",
        "def sigmoid(z):\n",
        "  return 1 / (1 + np.exp(-0.001 * z))\n",
        "\n",
        "# Objective Function\n",
        "def J(theta, data):\n",
        "  sigma = 0\n",
        "  for i in data:\n",
        "    z = theta @ np.array([1, i[0], i[1]])\n",
        "    sigma += -int(i[2]) * log(sigmoid(z)) - (1 - int(i[2])) * log(1 - sigmoid(z))\n",
        "  return (1 / len(data)) * sigma\n",
        "\n",
        "# Derivative of Objective Function by theta_j\n",
        "def dJ_dtheta_j(theta, data, j):\n",
        "  sigma = 0\n",
        "  for i in data:\n",
        "    z = theta @ np.array([1, i[0], i[1]])\n",
        "    if(j == 0):\n",
        "      sigma += (sigmoid(z) - int(i[2]))\n",
        "    else:\n",
        "      sigma += (sigmoid(z) - int(i[2])) * i[j - 1]\n",
        "  return (1 / (1000 * len(data))) * sigma\n",
        "\n",
        "\n",
        "# load the training data file ('data.txt')\n",
        "data = np.genfromtxt(\"drive/My Drive/Colab Notebooks/Machine Learning/Assignment 05/data.txt\", delimiter=',')\n",
        "\n",
        "# each row {(x_i, y_i, l_i)} of the data consists of a 2-dimensional point (x,y) with its label l\n",
        "# x,y ∈ R and l ∈ {0,1}\n",
        "x = data[:, 0]\n",
        "y = data[:, 1]\n",
        "label = data[:, 2]\n",
        "\n",
        "x_label0 = x[label == 0]\n",
        "x_label1 = x[label == 1]\n",
        "\n",
        "y_label0 = y[label == 0]\n",
        "y_label1 = y[label == 1]\n",
        "\n",
        "# you can use any initial conditions (θ0,θ1,θ2), where θ0​,θ1​,θ2 ​∈ R\n",
        "theta = np.array([-10000, -500, -1])\n",
        "\n",
        "# you should choose a learning rate α in such a way that the convergence is achieved\n",
        "learning_rate = 1000\n",
        "\n",
        "# the estimated parameters (θ0​,θ1​,θ2​) at every iteration of gradient descent\n",
        "theta0_i = []\n",
        "theta1_i = []\n",
        "theta2_i = []\n",
        "\n",
        "while True:\n",
        "  # save the estimated parameters (θ0​,θ1​,θ2​) at every iteration of gradient descent\n",
        "  theta0_i.append(theta[0])\n",
        "  theta1_i.append(theta[1])\n",
        "  theta2_i.append(theta[2])\n",
        "\n",
        "  # Gradient Descent\n",
        "  next_theta = np.empty(3, float)\n",
        "  next_theta[0] = theta[0] - 1000 * learning_rate * dJ_dtheta_j(theta, data, 0)\n",
        "  next_theta[1] = theta[1] - learning_rate * dJ_dtheta_j(theta, data, 1)\n",
        "  next_theta[2] = theta[2] - learning_rate * dJ_dtheta_j(theta, data, 2)\n",
        "\n",
        "  # do gradient descent method until the estimated parameters (θ0,θ1,θ2) convergge\n",
        "  if(isclose(theta[0], next_theta[0]) and isclose(theta[1], next_theta[1]) and isclose(theta[2], next_theta[2])):\n",
        "    break\n",
        "\n",
        "  # update thetas\n",
        "  theta = next_theta\n",
        "\n",
        "print(len(theta0_i))\n",
        "print('Theta:', theta)\n",
        "\n",
        "# plot the estimated parameters (θ0,θ1,θ2) at every iteration of gradient descent until convergence\n",
        "plt.figure(figsize=(8, 8))\n",
        "x = range(len(theta0_i))\n",
        "plt.plot(x, theta0_i, color='red')\n",
        "plt.plot(x, theta1_i, color='green')\n",
        "plt.plot(x, theta2_i, color='blue')\n",
        "plt.show()\n"
      ],
      "execution_count": 0,
      "outputs": [
        {
          "output_type": "stream",
          "text": [
            "42950\n",
            "Theta: [-25161.23908752    206.23095726    201.47083543]\n"
          ],
          "name": "stdout"
        },
        {
          "output_type": "display_data",
          "data": {
            "image/png": "[encoded data removed]",
            "text/plain": [
              "<Figure size 576x576 with 1 Axes>"
            ]
          },
          "metadata": {
            "tags": [],
            "needs_background": "light"
          }
        }
      ]
    },
    {
      "cell_type": "code",
      "metadata": {
        "id": "41lnJeRaCfIM",
        "colab_type": "code",
        "outputId": "58ad0e56-dd06-447b-8e81-b32fd00e91e4",
        "colab": {
          "base_uri": "https://localhost:8080/",
          "height": 539
        }
      },
      "source": [
        "# 3. Plot the training error [3pt]\n",
        "\n",
        "import numpy as np\n",
        "import matplotlib.pyplot as plt\n",
        "from math import *\n",
        "\n",
        "\n",
        "# Logistic regression\n",
        "def sigmoid(z):\n",
        "  return 1 / (1 + np.exp(-0.001 * z))\n",
        "\n",
        "# Objective Function\n",
        "def J(theta, data):\n",
        "  sigma = 0\n",
        "  for i in data:\n",
        "    z = theta @ np.array([1, i[0], i[1]])\n",
        "    sigma += -int(i[2]) * log(sigmoid(z)) - (1 - int(i[2])) * log(1 - sigmoid(z))\n",
        "  return (1 / len(data)) * sigma\n",
        "\n",
        "# Derivative of Objective Function by theta_j\n",
        "def dJ_dtheta_j(theta, data, j):\n",
        "  sigma = 0\n",
        "  for i in data:\n",
        "    z = theta @ np.array([1, i[0], i[1]])\n",
        "    if(j == 0):\n",
        "      sigma += (sigmoid(z) - int(i[2]))\n",
        "    else:\n",
        "      sigma += (sigmoid(z) - int(i[2])) * i[j - 1]\n",
        "  return (1 / (1000 * len(data))) * sigma\n",
        "\n",
        "\n",
        "# load the training data file ('data.txt')\n",
        "data = np.genfromtxt(\"drive/My Drive/Colab Notebooks/Machine Learning/Assignment 05/data.txt\", delimiter=',')\n",
        "\n",
        "# each row {(x_i, y_i, l_i)} of the data consists of a 2-dimensional point (x,y) with its label l\n",
        "# x,y ∈ R and l ∈ {0,1}\n",
        "x = data[:, 0]\n",
        "y = data[:, 1]\n",
        "label = data[:, 2]\n",
        "\n",
        "x_label0 = x[label == 0]\n",
        "x_label1 = x[label == 1]\n",
        "\n",
        "y_label0 = y[label == 0]\n",
        "y_label1 = y[label == 1]\n",
        "\n",
        "# you can use any initial conditions (θ0,θ1,θ2), where θ0​,θ1​,θ2 ​∈ R\n",
        "theta = np.array([-10000, -500, -1])\n",
        "\n",
        "# you should choose a learning rate α in such a way that the convergence is achieved\n",
        "learning_rate = 1000\n",
        "\n",
        "# the i-th training error J(θ0,θ1,θ2)\n",
        "J_i = []\n",
        "\n",
        "while True:\n",
        "#for i in range(1000):\n",
        "  # save the estimated parameters (θ0​,θ1​,θ2​) at every iteration of gradient descent\n",
        "  J_i.append(J(theta, data))\n",
        "\n",
        "  # Gradient Descent\n",
        "  next_theta = np.empty(3, float)\n",
        "  next_theta[0] = theta[0] - 1000 * learning_rate * dJ_dtheta_j(theta, data, 0)\n",
        "  next_theta[1] = theta[1] - learning_rate * dJ_dtheta_j(theta, data, 1)\n",
        "  next_theta[2] = theta[2] - learning_rate * dJ_dtheta_j(theta, data, 2)\n",
        "\n",
        "  # do gradient descent method until the estimated parameters (θ0,θ1,θ2) convergge\n",
        "  if(isclose(theta[0], next_theta[0]) and isclose(theta[1], next_theta[1]) and isclose(theta[2], next_theta[2])):\n",
        "    break\n",
        "\n",
        "  #if(isclose(J(theta, data), J(next_theta, data))):\n",
        "  #  break\n",
        "\n",
        "  # update thetas\n",
        "  theta = next_theta\n",
        "\n",
        "print(len(J_i))\n",
        "print('Theta:', theta)\n",
        "print('J(θ):', J_i[-1])\n",
        "\n",
        "# plot the estimated parameters (θ0,θ1,θ2) at every iteration of gradient descent until convergence\n",
        "plt.figure(figsize=(8, 8))\n",
        "plt.plot(range(len(J_i)), J_i, color='blue')\n",
        "plt.show()\n"
      ],
      "execution_count": 0,
      "outputs": [
        {
          "output_type": "stream",
          "text": [
            "42950\n",
            "Theta: [-25161.23908752    206.23095726    201.47083543]\n",
            "J(θ): 0.20349770159076755\n"
          ],
          "name": "stdout"
        },
        {
          "output_type": "display_data",
          "data": {
            "image/png": "[encoded data removed]",
            "text/plain": [
              "<Figure size 576x576 with 1 Axes>"
            ]
          },
          "metadata": {
            "tags": [],
            "needs_background": "light"
          }
        }
      ]
    },
    {
      "cell_type": "code",
      "metadata": {
        "id": "L_RiD2BzDTu3",
        "colab_type": "code",
        "outputId": "a386a670-9977-4114-adc0-c6b9c4ae2c47",
        "colab": {
          "base_uri": "https://localhost:8080/",
          "height": 513
        }
      },
      "source": [
        "# 4. Plot the obtained classifier [4pt]\n",
        "\n",
        "import numpy as np\n",
        "import matplotlib.pyplot as plt\n",
        "from matplotlib import cm\n",
        "from math import *\n",
        "\n",
        "\n",
        "# Logistic regression\n",
        "def sigmoid(z):\n",
        "  return 1 / (1 + np.exp(-0.001 * z))\n",
        "\n",
        "# Objective Function\n",
        "def J(theta, data):\n",
        "  sigma = 0\n",
        "  for i in data:\n",
        "    z = theta @ np.array([1, i[0], i[1]])\n",
        "    sigma += -int(i[2]) * log(sigmoid(z)) - (1 - int(i[2])) * log(1 - sigmoid(z))\n",
        "  return (1 / len(data)) * sigma\n",
        "\n",
        "# Derivative of Objective Function by theta_j\n",
        "def dJ_dtheta_j(theta, data, j):\n",
        "  sigma = 0\n",
        "  for i in data:\n",
        "    z = theta @ np.array([1, i[0], i[1]])\n",
        "    if(j == 0):\n",
        "      sigma += (sigmoid(z) - int(i[2]))\n",
        "    else:\n",
        "      sigma += (sigmoid(z) - int(i[2])) * i[j - 1]\n",
        "  return (1 / (1000 * len(data))) * sigma\n",
        "\n",
        "\n",
        "# load the training data file ('data.txt')\n",
        "data = np.genfromtxt(\"drive/My Drive/Colab Notebooks/Machine Learning/Assignment 05/data.txt\", delimiter=',')\n",
        "\n",
        "# each row {(x_i, y_i, l_i)} of the data consists of a 2-dimensional point (x,y) with its label l\n",
        "# x,y ∈ R and l ∈ {0,1}\n",
        "x = data[:, 0]\n",
        "y = data[:, 1]\n",
        "label = data[:, 2]\n",
        "\n",
        "x_label0 = x[label == 0]\n",
        "x_label1 = x[label == 1]\n",
        "\n",
        "y_label0 = y[label == 0]\n",
        "y_label1 = y[label == 1]\n",
        "\n",
        "# you can use any initial conditions (θ0,θ1,θ2), where θ0​,θ1​,θ2 ​∈ R\n",
        "theta = np.array([-10000, -500, -1])\n",
        "\n",
        "# you should choose a learning rate α in such a way that the convergence is achieved\n",
        "learning_rate = 1000\n",
        "\n",
        "count = 0\n",
        "while True:\n",
        "  # save the estimated parameters (θ0​,θ1​,θ2​) at every iteration of gradient descent\n",
        "  count += 1\n",
        "\n",
        "  # Gradient Descent\n",
        "  next_theta = np.empty(3, float)\n",
        "  next_theta[0] = theta[0] - 1000 * learning_rate * dJ_dtheta_j(theta, data, 0)\n",
        "  next_theta[1] = theta[1] - learning_rate * dJ_dtheta_j(theta, data, 1)\n",
        "  next_theta[2] = theta[2] - learning_rate * dJ_dtheta_j(theta, data, 2)\n",
        "\n",
        "  # do gradient descent method until the estimated parameters (θ0,θ1,θ2) convergge\n",
        "  if(isclose(theta[0], next_theta[0]) and isclose(theta[1], next_theta[1]) and isclose(theta[2], next_theta[2])):\n",
        "    break\n",
        "\n",
        "  #if(isclose(J(theta, data), J(next_theta, data))):\n",
        "  #  break\n",
        "\n",
        "  # update thetas\n",
        "  theta = next_theta\n",
        "\n",
        "print(count)\n",
        "print('Theta:', theta)\n",
        "\n",
        "# the classifier σ(z) where z=θ0+θ1x+θ2y\n",
        "X = np.arange(30, 100, 0.5)\n",
        "Y = np.arange(30, 100, 0.5)\n",
        "X, Y = np.meshgrid(X, Y)\n",
        "Z = sigmoid(theta[0] + theta[1] * X + theta[2] * Y)\n",
        "\n",
        "# plot the classifier σ(z) where z=θ0+θ1x+θ2y with x=[30:0.5:100] and y=[30:0.5:100]\n",
        "plt.figure(figsize=(8, 8))\n",
        "# use a colormap where blue is used for 0, red is used for 1\n",
        "# their weighted combination for a value between 0 and 1\n",
        "plt.imshow(Z, cmap=cm.coolwarm, vmin=0, vmax=1)\n",
        "plt.colorbar()\n",
        "ax = plt.gca()\n",
        "ax.invert_yaxis()\n",
        "# [a:t:b] denotes a range of values from a to b with a stepsize t\n",
        "ax.set_xlim(30, 100)\n",
        "ax.set_ylim(30, 100)\n",
        "\n",
        "# plot the training data points (x,y) with their labels l \n",
        "# in colors (blue for label 0 and red for label 1) superimposed on the classifier\n",
        "plt.scatter(x_label0, y_label0, color='blue')\n",
        "plt.scatter(x_label1, y_label1, color='red')\n",
        "\n",
        "plt.show()\n"
      ],
      "execution_count": 0,
      "outputs": [
        {
          "output_type": "stream",
          "text": [
            "42950\n",
            "Theta: [-25161.23908752    206.23095726    201.47083543]\n"
          ],
          "name": "stdout"
        },
        {
          "output_type": "display_data",
          "data": {
            "image/png": "[encoded data removed]",
            "text/plain": [
              "<Figure size 576x576 with 2 Axes>"
            ]
          },
          "metadata": {
            "tags": [],
            "needs_background": "light"
          }
        }
      ]
    }
  ]
}