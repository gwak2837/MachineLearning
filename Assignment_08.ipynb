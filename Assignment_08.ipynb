{
  "nbformat": 4,
  "nbformat_minor": 0,
  "metadata": {
    "colab": {
      "name": "Assignment 08.ipynb",
      "provenance": [],
      "collapsed_sections": [],
      "mount_file_id": "1GFgCVA9CyEbjZFpLguVGappjwXzF1QRt",
      "authorship_tag": "ABX9TyMQ1QkrTmvnqc5UcM83SBqw",
      "include_colab_link": true
    },
    "kernelspec": {
      "name": "python3",
      "display_name": "Python 3"
    }
  },
  "cells": [
    {
      "cell_type": "markdown",
      "metadata": {
        "id": "view-in-github",
        "colab_type": "text"
      },
      "source": [
        "<a href=\"https://colab.research.google.com/github/rmfpdlxmtidl/MachineLearningAssignments/blob/master/Assignment_08.ipynb\" target=\"_parent\"><img src=\"https://colab.research.google.com/assets/colab-badge.svg\" alt=\"Open In Colab\"/></a>"
      ]
    },
    {
      "cell_type": "code",
      "metadata": {
        "id": "T0eGtYMvHAl8",
        "colab_type": "code",
        "outputId": "383781b8-bd80-48d4-f91c-a473aad9171c",
        "colab": {
          "base_uri": "https://localhost:8080/",
          "height": 346
        }
      },
      "source": [
        "import matplotlib.pyplot as plt\n",
        "import numpy as np\n",
        "\n",
        "\n",
        "file_data   = \"drive/My Drive/Colab Notebooks/Machine Learning/Assignment 08/mnist_test.csv\"\n",
        "handle_file = open(file_data, \"r\")\n",
        "data        = handle_file.readlines()\n",
        "handle_file.close()\n",
        "\n",
        "size_row = 28  # height of the image\n",
        "size_col = 28  # width of the image\n",
        "\n",
        "image_count = len(data)\n",
        "\n",
        "# make a matrix each row of which represents an images in a vector form \n",
        "labels = np.empty(image_count, dtype=int)\n",
        "images = np.empty((image_count, size_row * size_col), dtype=float)\n",
        "\n",
        "# list of the averages of images\n",
        "images_grouped_by_number = [np.zeros(size_row * size_col, dtype=float) for i in range(10)]\n",
        "images_grouped_by_number_count = [0 for x in range(10)]\n",
        "  \n",
        "for index, line in enumerate(data):\n",
        "  label_image = line.split(',')\n",
        "  label = label_image[0]\n",
        "  image_vector = np.asfarray(label_image[1:])\n",
        "\n",
        "  labels[index] = label\n",
        "  images[index] = image_vector\n",
        "  images_grouped_by_number[int(label)] += image_vector\n",
        "  images_grouped_by_number_count[int(label)] += 1\n",
        "\n",
        "# get the averages of images\n",
        "for i in range(len(images_grouped_by_number)):\n",
        "  images_grouped_by_number[i] /= images_grouped_by_number_count[i]\n",
        "\n",
        "# 1. Plot the average image [5pt]\n",
        "print('1. Plot the average image [5pt]')\n",
        "print('- plot the average images of the same label for each digit')\n",
        "plt.figure(figsize=(10, 5))\n",
        "for label, image_vector in enumerate(images_grouped_by_number):\n",
        "  image_matrix = image_vector.reshape((size_row, size_col))\n",
        "\n",
        "  # arrange the subplots in 2x5 array for the 10 average images\n",
        "  plt.subplot(2, 5, label+1)\n",
        "  # present the label at the title of each subplot in the increasing order of the label\n",
        "  plt.title(label)\n",
        "  plt.imshow(image_matrix, cmap='Greys', interpolation='None')\n",
        "\n",
        "  frame = plt.gca()\n",
        "  frame.axes.get_xaxis().set_visible(False)\n",
        "  frame.axes.get_yaxis().set_visible(False)\n",
        "\n",
        "plt.subplots_adjust(hspace=0.5)\n",
        "plt.show()\n"
      ],
      "execution_count": 55,
      "outputs": [
        {
          "output_type": "stream",
          "text": [
            "1. Plot the average image [5pt]\n",
            "- plot the average images of the same label for each digit\n"
          ],
          "name": "stdout"
        },
        {
          "output_type": "display_data",
          "data": {
            "image/png": "[encoded data removed]",
            "text/plain": [
              "<Figure size 720x360 with 10 Axes>"
            ]
          },
          "metadata": {
            "tags": [],
            "needs_background": "light"
          }
        }
      ]
    },
    {
      "cell_type": "code",
      "metadata": {
        "id": "vO6fFoWBQuNS",
        "colab_type": "code",
        "colab": {
          "base_uri": "https://localhost:8080/",
          "height": 34
        },
        "outputId": "79690625-df67-4151-8115-414413fe891c"
      },
      "source": [
        "a = np.asfarray([1, 2, 3, 4])\n",
        "b = np.asfarray([1, 2, 3, 5])\n",
        "print(b / 2)"
      ],
      "execution_count": 45,
      "outputs": [
        {
          "output_type": "stream",
          "text": [
            "[0.5 1.  1.5 2.5]\n"
          ],
          "name": "stdout"
        }
      ]
    }
  ]
}